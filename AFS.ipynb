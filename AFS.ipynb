{
 "cells": [
  {
   "cell_type": "code",
   "execution_count": 6,
   "id": "e8c33bb5-f8e1-489e-aeaf-59fb003ac09e",
   "metadata": {},
   "outputs": [],
   "source": [
    "import os, shutil\n",
    "path = r'C:/Users/emman/OneDrive/Documents/AFS/'"
   ]
  },
  {
   "cell_type": "code",
   "execution_count": 14,
   "id": "bc49423a-6521-49d4-a762-e39ecf0ee563",
   "metadata": {},
   "outputs": [],
   "source": [
    "file_name = os.listdir(path)"
   ]
  },
  {
   "cell_type": "code",
   "execution_count": 12,
   "id": "9f0d1af1-1f3e-4ce6-9e6a-fa2fc1f9abf5",
   "metadata": {},
   "outputs": [],
   "source": [
    "folder_names = ['excel file', 'img file', 'text files']\n",
    "\n",
    "for i in range(0,3):\n",
    "    if not os.path.exists(path + folder_names[i]):\n",
    "        print(path + folder_names[i])\n",
    "        os.makedirs(path + folder_names[i])\n",
    "    "
   ]
  },
  {
   "cell_type": "code",
   "execution_count": 35,
   "id": "0144385b-53a9-4874-b47e-4ed775329d1a",
   "metadata": {},
   "outputs": [],
   "source": [
    "for file in file_name:\n",
    "    if '.xlsx' in file and not os.path.exists(path + '/excel file' + file):\n",
    "        shutil.move(path + file,path + 'excel file/' + file)\n",
    "    elif '.txt' in file and not os.path.exists(path + '/text files' + file):\n",
    "        shutil.move(path + file,path + 'text files/' + file)\n",
    "    elif ('.jfif' in file or '.jpg' in file) and not os.path.exists(path + '/img file' + file):\n",
    "        shutil.move(path + file,path + 'img file/' + file)\n",
    "\n",
    "    "
   ]
  },
  {
   "cell_type": "code",
   "execution_count": null,
   "id": "93b804da-f06a-4dc9-92bd-f0cb77e93c4d",
   "metadata": {},
   "outputs": [],
   "source": []
  },
  {
   "cell_type": "code",
   "execution_count": null,
   "id": "73643aaf-d6f4-49ef-a89e-bfbb1bc4275b",
   "metadata": {},
   "outputs": [],
   "source": []
  },
  {
   "cell_type": "code",
   "execution_count": null,
   "id": "84b5c525-d954-404c-9c11-8d9cb82db772",
   "metadata": {},
   "outputs": [],
   "source": []
  }
 ],
 "metadata": {
  "kernelspec": {
   "display_name": "Python 3 (ipykernel)",
   "language": "python",
   "name": "python3"
  },
  "language_info": {
   "codemirror_mode": {
    "name": "ipython",
    "version": 3
   },
   "file_extension": ".py",
   "mimetype": "text/x-python",
   "name": "python",
   "nbconvert_exporter": "python",
   "pygments_lexer": "ipython3",
   "version": "3.13.1"
  }
 },
 "nbformat": 4,
 "nbformat_minor": 5
}
